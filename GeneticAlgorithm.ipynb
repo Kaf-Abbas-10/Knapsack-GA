{
  "cells": [
    {
      "cell_type": "markdown",
      "metadata": {
        "id": "UJzKHAqXUkmT"
      },
      "source": [
        "# Lab 7 (Genetic Algorithm )\n"
      ]
    },
    {
      "cell_type": "markdown",
      "metadata": {
        "id": "d2UJ38P5Ukmf"
      },
      "source": [
        "## Lab Task 1: KnapSack Problem"
      ]
    },
    {
      "cell_type": "code",
      "execution_count": 31,
      "metadata": {
        "colab": {
          "base_uri": "https://localhost:8080/"
        },
        "id": "RsSY-NExs2lL",
        "outputId": "db003c5b-c7e5-49b7-f33e-65e7e98aef58"
      },
      "outputs": [],
      "source": [
        "import random\n",
        "\n",
        "# Problem parameters\n",
        "items = [\n",
        "    {\"name\": \"N1\", \"value\": 14, \"weight\": 1},\n",
        "    {\"name\": \"N2\", \"value\": 23, \"weight\": 3},\n",
        "    {\"name\": \"N3\", \"value\": 8, \"weight\": 7},\n",
        "    {\"name\": \"N4\", \"value\": 9, \"weight\": 4},\n",
        "    {\"name\": \"N5\", \"value\": 17, \"weight\": 5},\n",
        "    {\"name\": \"N6\", \"value\": 15, \"weight\": 6}\n",
        "]\n",
        "max_weight = 10\n",
        "population_size = 10\n",
        "mutation_rate = 0.1\n",
        "generations = 50\n"
      ]
    },
    {
      "cell_type": "code",
      "execution_count": 32,
      "metadata": {
        "id": "gHplnTHftrpI"
      },
      "outputs": [],
      "source": [
        "# Initialize population\n",
        "def initialize_population():\n",
        "    \"\"\"Generate an initial population of random solutions.\"\"\"\n",
        "    population = []\n",
        "    for i in range(population_size):\n",
        "        chromosome = []\n",
        "        for j in range(len(items)):\n",
        "            chromosome.append(random.randint(0,1));\n",
        "        population.append(chromosome)\n",
        "    return population\n"
      ]
    },
    {
      "cell_type": "code",
      "execution_count": 33,
      "metadata": {
        "id": "NIUXn1DitrsI"
      },
      "outputs": [],
      "source": [
        "# Fitness function\n",
        "def fitness(individual):\n",
        "    \"\"\"Calculate total value while ensuring weight does not exceed max limit.\"\"\"\n",
        "    weight_sum = val_sum = 0\n",
        "    for i in range(len(individual)):\n",
        "        if individual[i] == 1:\n",
        "            val_sum += items[i][\"value\"]\n",
        "            weight_sum += items[i][\"weight\"]\n",
        "    if weight_sum > max_weight:\n",
        "        return val_sum - weight_sum\n",
        "    return val_sum"
      ]
    },
    {
      "cell_type": "code",
      "execution_count": 34,
      "metadata": {
        "id": "8x_B0ZKqtruc"
      },
      "outputs": [],
      "source": [
        "# Selection\n",
        "def selection(population):\n",
        "    \"\"\"Select individuals based on fitness proportion.\"\"\"\n",
        "    parent1 = None\n",
        "    parent2 = None\n",
        "    random_values = random.sample(range(len(items)), 4)\n",
        "    max_1 = 0\n",
        "    max_idx_1 = 0\n",
        "    for i in range(4):\n",
        "        temp = fitness(population[i])\n",
        "        if max_1 < temp:\n",
        "            max_1 = temp\n",
        "            max_idx_1 = i\n",
        "\n",
        "    random_values = random.sample(range(len(items)), 4)\n",
        "    max_2 = 0\n",
        "    max_idx_2 = 0\n",
        "    for i in range(4):\n",
        "        temp = fitness(population[i])\n",
        "        if max_2 < temp:\n",
        "            max_2 = temp\n",
        "            max_idx_2 = i\n",
        "\n",
        "    return population[max_idx_1],population[max_idx_2]"
      ]
    },
    {
      "cell_type": "code",
      "execution_count": 35,
      "metadata": {
        "id": "0U0833Rptrw0"
      },
      "outputs": [],
      "source": [
        "# Crossover\n",
        "def crossover(parent1, parent2):\n",
        "    \"\"\"Perform crossover between two parents.\"\"\"\n",
        "    mask = random.choices([0, 1], k=len(items))\n",
        "    child1 = []\n",
        "    child2 = []\n",
        "    for i in range(len(items)):\n",
        "        if mask[i] == 1:\n",
        "            child1.append(parent1[i])\n",
        "            child2.append(parent2[i])\n",
        "        else:\n",
        "            child1.append(parent2[i])\n",
        "            child2.append(parent1[i])\n",
        "\n",
        "    return child1,child2"
      ]
    },
    {
      "cell_type": "code",
      "execution_count": 36,
      "metadata": {
        "id": "NoF50GQMtrzW"
      },
      "outputs": [],
      "source": [
        "# Mutation\n",
        "def mutate(individual):\n",
        "    \"\"\"Apply mutation by flipping a random bit with a probability.\"\"\"\n",
        "    for i in range(len(individual)):\n",
        "        rand = random.random()\n",
        "        if rand < mutation_rate:\n",
        "            if individual[i] == 0:\n",
        "                individual[i] = 1\n",
        "            else:\n",
        "                individual[i] = 0\n",
        "    return individual"
      ]
    },
    {
      "cell_type": "code",
      "execution_count": 43,
      "metadata": {
        "id": "He718-I6WVgT"
      },
      "outputs": [],
      "source": [
        "def isvalid(individual):\n",
        "    \"\"\"Check if the individual is valid.\"\"\"\n",
        "    total_weight = 0\n",
        "    for i in range(len(individual)):\n",
        "        if individual[i]:  # If the gene is selected\n",
        "            total_weight += items[i][\"weight\"]\n",
        "    return total_weight <= max_weight# Replacement\n",
        "def replace_population(population, new_population):\n",
        "    \"\"\"Replace the weakest individuals with new offspring. Check the validity of every solution using isvalid function. If the solution in our population is not valid, replace it with the best solution of the new population which is also valid.\"\"\"\n",
        "    # Check the validity of the individuals in the new population\n",
        "    valid_new_population = [individual for individual in new_population if isvalid(individual)]\n",
        "    # Replace\n",
        "    for i in range(len(population)):\n",
        "        if not isvalid(population[i]) and valid_new_population:\n",
        "            population[i] = max(valid_new_population, key=fitness)\n",
        "    return population"
      ]
    },
    {
      "cell_type": "code",
      "execution_count": 49,
      "metadata": {
        "id": "lSMf7IOLWYld"
      },
      "outputs": [
        {
          "name": "stdout",
          "output_type": "stream",
          "text": [
            "Best Solution: [1, 1, 0, 0, 0, 1]\n"
          ]
        }
      ],
      "source": [
        "# Genetic Algorithm Execution\n",
        "def genetic_algorithm():\n",
        "    \"\"\"Run the genetic algorithm.\"\"\"\n",
        "    population = initialize_population()\n",
        "\n",
        "    for _ in range(generations):\n",
        "        new_population = []\n",
        "        for _ in range(population_size // 2):\n",
        "            parent1, parent2 = selection(population)\n",
        "            child1, child2 = crossover(parent1, parent2)\n",
        "            new_population.extend([mutate(child1), mutate(child2)])\n",
        "\n",
        "        population = replace_population(population, new_population)\n",
        "\n",
        "    best_solution = max(population, key=fitness)\n",
        "    print(f\"Best Solution: {best_solution}\")\n",
        "\n",
        "genetic_algorithm()"
      ]
    },
    {
      "cell_type": "code",
      "execution_count": null,
      "metadata": {},
      "outputs": [],
      "source": []
    }
  ],
  "metadata": {
    "colab": {
      "provenance": []
    },
    "kernelspec": {
      "display_name": "Python 3",
      "name": "python3"
    },
    "language_info": {
      "codemirror_mode": {
        "name": "ipython",
        "version": 3
      },
      "file_extension": ".py",
      "mimetype": "text/x-python",
      "name": "python",
      "nbconvert_exporter": "python",
      "pygments_lexer": "ipython3",
      "version": "3.12.5"
    }
  },
  "nbformat": 4,
  "nbformat_minor": 0
}
